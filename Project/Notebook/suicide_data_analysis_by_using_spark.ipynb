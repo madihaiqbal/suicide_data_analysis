{
 "cells": [
  {
   "cell_type": "markdown",
   "id": "2d493125",
   "metadata": {},
   "source": [
    "## Introduction - Suicide Data Analysis\n",
    "\n",
    "The dataset contains the following features:\n",
    "\n",
    "1. **Country**: The country where the suicide statistics were recorded.\n",
    "\n",
    "2. **Age**: Age groups of the population, categorizing individuals into different ranges.\n",
    "\n",
    "3. **Sex**: Gender of individuals, indicating whether the suicide statistics are for males or females.\n",
    "\n",
    "4. **Suicides Number**: The absolute count of suicides recorded.\n",
    "\n",
    "5. **Population**: The total population of the specified demographic group.\n",
    "\n",
    "6. **Suicides/100k Pop**: The suicide rate per 100,000 population, providing a normalized measure.\n",
    "\n",
    "7. **GDP for Year ($)**: The Gross Domestic Product (GDP) for the given year in dollars.\n",
    "\n",
    "8. **GDP per Capita ($)**: The GDP per capita, calculated as GDP divided by the population.\n",
    "\n",
    "9. **Generation**: A generational cohort classification, grouping individuals based on birth years.\n"
   ]
  },
  {
   "cell_type": "markdown",
   "id": "f326271c",
   "metadata": {},
   "source": [
    "# Install pyspark"
   ]
  },
  {
   "cell_type": "code",
   "execution_count": 31,
   "id": "eb6c88e3",
   "metadata": {},
   "outputs": [
    {
     "name": "stdout",
     "output_type": "stream",
     "text": [
      "Requirement already satisfied: pyspark in c:\\users\\madih\\anaconda3\\lib\\site-packages (3.5.0)\n",
      "Requirement already satisfied: py4j==0.10.9.7 in c:\\users\\madih\\anaconda3\\lib\\site-packages (from pyspark) (0.10.9.7)\n"
     ]
    }
   ],
   "source": [
    "!pip install pyspark"
   ]
  },
  {
   "cell_type": "code",
   "execution_count": 32,
   "id": "d619e92b",
   "metadata": {},
   "outputs": [],
   "source": [
    "from pyspark.sql import SparkSession\n",
    "from pyspark.sql.functions import count, col, when, regexp_replace, desc, sum, max, min, asc, to_date\n",
    "from pyspark.sql.types import IntegerType\n",
    "from pyspark.ml.feature import VectorAssembler\n",
    "from pyspark.ml.regression import LinearRegression\n",
    "from pyspark.ml.evaluation import RegressionEvaluator"
   ]
  },
  {
   "cell_type": "code",
   "execution_count": 33,
   "id": "9987646d",
   "metadata": {},
   "outputs": [],
   "source": [
    "spark = SparkSession.builder.appName(\"SuicideDataAnalysis\").getOrCreate()"
   ]
  },
  {
   "cell_type": "code",
   "execution_count": 34,
   "id": "adcdf879",
   "metadata": {},
   "outputs": [],
   "source": [
    "file_path = 'C:/Users/madih/big_data_analytics_project/dataset/suicide_statistics.csv'\n",
    "df = spark.read.csv(file_path, header=True, inferSchema=True)"
   ]
  },
  {
   "cell_type": "code",
   "execution_count": 35,
   "id": "546c43f3",
   "metadata": {},
   "outputs": [
    {
     "name": "stdout",
     "output_type": "stream",
     "text": [
      "root\n",
      " |-- country: string (nullable = true)\n",
      " |-- year: integer (nullable = true)\n",
      " |-- sex: string (nullable = true)\n",
      " |-- age: string (nullable = true)\n",
      " |-- suicides_no: integer (nullable = true)\n",
      " |-- population: integer (nullable = true)\n",
      " |-- suicides/100k pop: double (nullable = true)\n",
      " |-- country-year: string (nullable = true)\n",
      " |-- HDI for year: double (nullable = true)\n",
      " |-- gdp_for_year ($): string (nullable = true)\n",
      " |-- gdp_per_capita ($): integer (nullable = true)\n",
      " |-- generation: string (nullable = true)\n",
      "\n"
     ]
    }
   ],
   "source": [
    "df.printSchema()"
   ]
  },
  {
   "cell_type": "code",
   "execution_count": 36,
   "id": "842c2a05",
   "metadata": {},
   "outputs": [
    {
     "name": "stdout",
     "output_type": "stream",
     "text": [
      "+-------+----+------+-----------+-----------+----------+-----------------+------------+------------+----------------+------------------+---------------+\n",
      "|country|year|   sex|        age|suicides_no|population|suicides/100k pop|country-year|HDI for year|gdp_for_year ($)|gdp_per_capita ($)|     generation|\n",
      "+-------+----+------+-----------+-----------+----------+-----------------+------------+------------+----------------+------------------+---------------+\n",
      "|Albania|1987|  male|15-24 years|         21|    312900|             6.71| Albania1987|        NULL|   2,156,624,900|               796|   Generation X|\n",
      "|Albania|1987|  male|35-54 years|         16|    308000|             5.19| Albania1987|        NULL|   2,156,624,900|               796|         Silent|\n",
      "|Albania|1987|female|15-24 years|         14|    289700|             4.83| Albania1987|        NULL|   2,156,624,900|               796|   Generation X|\n",
      "|Albania|1987|  male|  75+ years|          1|     21800|             4.59| Albania1987|        NULL|   2,156,624,900|               796|G.I. Generation|\n",
      "|Albania|1987|  male|25-34 years|          9|    274300|             3.28| Albania1987|        NULL|   2,156,624,900|               796|        Boomers|\n",
      "+-------+----+------+-----------+-----------+----------+-----------------+------------+------------+----------------+------------------+---------------+\n",
      "only showing top 5 rows\n",
      "\n"
     ]
    }
   ],
   "source": [
    "df.show(5)"
   ]
  },
  {
   "cell_type": "code",
   "execution_count": 37,
   "id": "3e4fd8b7",
   "metadata": {},
   "outputs": [
    {
     "name": "stdout",
     "output_type": "stream",
     "text": [
      "+-------+----------+------------------+------+-----------+------------------+------------------+------------------+--------------+-------------------+-----------------+------------------+----------+\n",
      "|summary|   country|              year|   sex|        age|       suicides_no|        population| suicides/100k pop|  country-year|       HDI for year| gdp_for_year ($)|gdp_per_capita ($)|generation|\n",
      "+-------+----------+------------------+------+-----------+------------------+------------------+------------------+--------------+-------------------+-----------------+------------------+----------+\n",
      "|  count|     27820|             27820| 27820|      27820|             27820|             27820|             27820|         27820|               8364|            27820|             27820|     27820|\n",
      "|   mean|      NULL|2001.2583752695903|  NULL|       NULL|242.57440690150972|1844793.6173975556|12.816097411933894|          NULL| 0.7766011477761785|             NULL|16866.464414090584|      NULL|\n",
      "| stddev|      NULL| 8.469055024441408|  NULL|       NULL| 902.0479168336403|3911779.4417563565| 18.96151101450326|          NULL|0.09336670859029984|             NULL|18887.576472205576|      NULL|\n",
      "|    min|   Albania|              1985|female|15-24 years|                 0|               278|               0.0|   Albania1987|              0.483|1,002,219,052,968|               251|   Boomers|\n",
      "|    max|Uzbekistan|              2016|  male|  75+ years|             22338|          43805214|            224.97|Uzbekistan2014|              0.944|      997,007,926|            126352|    Silent|\n",
      "+-------+----------+------------------+------+-----------+------------------+------------------+------------------+--------------+-------------------+-----------------+------------------+----------+\n",
      "\n"
     ]
    }
   ],
   "source": [
    "df.describe().show()"
   ]
  },
  {
   "cell_type": "markdown",
   "id": "4c83f19f",
   "metadata": {},
   "source": [
    "# Data Transformation"
   ]
  },
  {
   "cell_type": "code",
   "execution_count": 38,
   "id": "bfd80882",
   "metadata": {},
   "outputs": [],
   "source": [
    "df = df.withColumn(\"gdp_for_year ($)\", regexp_replace(col(\"gdp_for_year ($)\"), \",\", \"\"))"
   ]
  },
  {
   "cell_type": "code",
   "execution_count": 39,
   "id": "5e843455",
   "metadata": {},
   "outputs": [
    {
     "name": "stdout",
     "output_type": "stream",
     "text": [
      "+-------+----+------+-----------+-----------+----------+-----------------+------------+------------+----------------+------------------+---------------+\n",
      "|country|year|   sex|        age|suicides_no|population|suicides/100k pop|country-year|HDI for year|gdp_for_year ($)|gdp_per_capita ($)|     generation|\n",
      "+-------+----+------+-----------+-----------+----------+-----------------+------------+------------+----------------+------------------+---------------+\n",
      "|Albania|1987|  male|15-24 years|         21|    312900|             6.71| Albania1987|        NULL|      2156624900|               796|   Generation X|\n",
      "|Albania|1987|  male|35-54 years|         16|    308000|             5.19| Albania1987|        NULL|      2156624900|               796|         Silent|\n",
      "|Albania|1987|female|15-24 years|         14|    289700|             4.83| Albania1987|        NULL|      2156624900|               796|   Generation X|\n",
      "|Albania|1987|  male|  75+ years|          1|     21800|             4.59| Albania1987|        NULL|      2156624900|               796|G.I. Generation|\n",
      "|Albania|1987|  male|25-34 years|          9|    274300|             3.28| Albania1987|        NULL|      2156624900|               796|        Boomers|\n",
      "+-------+----+------+-----------+-----------+----------+-----------------+------------+------------+----------------+------------------+---------------+\n",
      "only showing top 5 rows\n",
      "\n"
     ]
    }
   ],
   "source": [
    "df.show(5)"
   ]
  },
  {
   "cell_type": "code",
   "execution_count": 40,
   "id": "52bb26c7",
   "metadata": {},
   "outputs": [
    {
     "name": "stdout",
     "output_type": "stream",
     "text": [
      "+-------+----+------+-----------+-----------+----------+-----------------+------------+------------+----------------+------------------+---------------+\n",
      "|country|year|   sex|        age|suicides_no|population|suicides/100k pop|country-year|HDI for year|gdp_for_year ($)|gdp_per_capita ($)|     generation|\n",
      "+-------+----+------+-----------+-----------+----------+-----------------+------------+------------+----------------+------------------+---------------+\n",
      "|Albania|1987|  male|15-24 years|         21|    312900|             6.71| Albania1987|        NULL|      2156624900|               796|   Generation X|\n",
      "|Albania|1987|  male|35-54 years|         16|    308000|             5.19| Albania1987|        NULL|      2156624900|               796|         Silent|\n",
      "|Albania|1987|female|15-24 years|         14|    289700|             4.83| Albania1987|        NULL|      2156624900|               796|   Generation X|\n",
      "|Albania|1987|  male|  75+ years|          1|     21800|             4.59| Albania1987|        NULL|      2156624900|               796|G.I. Generation|\n",
      "|Albania|1987|  male|25-34 years|          9|    274300|             3.28| Albania1987|        NULL|      2156624900|               796|        Boomers|\n",
      "+-------+----+------+-----------+-----------+----------+-----------------+------------+------------+----------------+------------------+---------------+\n",
      "only showing top 5 rows\n",
      "\n"
     ]
    }
   ],
   "source": [
    "df = df.withColumn(\"gdp_for_year ($)\", df[\"gdp_for_year ($)\"].cast('long'))\n",
    "df.show(5)"
   ]
  },
  {
   "cell_type": "code",
   "execution_count": 41,
   "id": "d35894f6",
   "metadata": {},
   "outputs": [],
   "source": [
    "df = df.withColumn(\"year\", to_date(col(\"year\")))"
   ]
  },
  {
   "cell_type": "code",
   "execution_count": 42,
   "id": "02644141",
   "metadata": {},
   "outputs": [
    {
     "name": "stdout",
     "output_type": "stream",
     "text": [
      "root\n",
      " |-- country: string (nullable = true)\n",
      " |-- year: date (nullable = true)\n",
      " |-- sex: string (nullable = true)\n",
      " |-- age: string (nullable = true)\n",
      " |-- suicides_no: integer (nullable = true)\n",
      " |-- population: integer (nullable = true)\n",
      " |-- suicides/100k pop: double (nullable = true)\n",
      " |-- country-year: string (nullable = true)\n",
      " |-- HDI for year: double (nullable = true)\n",
      " |-- gdp_for_year ($): long (nullable = true)\n",
      " |-- gdp_per_capita ($): integer (nullable = true)\n",
      " |-- generation: string (nullable = true)\n",
      "\n"
     ]
    }
   ],
   "source": [
    "df.printSchema()"
   ]
  },
  {
   "cell_type": "markdown",
   "id": "5ecd83c5",
   "metadata": {},
   "source": [
    "# Handle null values"
   ]
  },
  {
   "cell_type": "code",
   "execution_count": 44,
   "id": "48e9e24b",
   "metadata": {},
   "outputs": [
    {
     "name": "stdout",
     "output_type": "stream",
     "text": [
      "+-------+----+---+---+-----------+----------+-----------------+------------+------------+----------------+------------------+----------+\n",
      "|country|year|sex|age|suicides_no|population|suicides/100k pop|country-year|HDI for year|gdp_for_year ($)|gdp_per_capita ($)|generation|\n",
      "+-------+----+---+---+-----------+----------+-----------------+------------+------------+----------------+------------------+----------+\n",
      "|      0|   0|  0|  0|          0|         0|                0|           0|       19456|               0|                 0|         0|\n",
      "+-------+----+---+---+-----------+----------+-----------------+------------+------------+----------------+------------------+----------+\n",
      "\n"
     ]
    }
   ],
   "source": [
    "# Check for null values in the entire DataFrame\n",
    "null_counts = df.select([count(when(col(c).isNull(), c)).alias(c) for c in df.columns])\n",
    "\n",
    "# Display null counts for each column\n",
    "null_counts.show()"
   ]
  },
  {
   "cell_type": "code",
   "execution_count": 45,
   "id": "078731c6",
   "metadata": {},
   "outputs": [
    {
     "name": "stdout",
     "output_type": "stream",
     "text": [
      "+-------+----------+------+-----------+-----------+----------+-----------------+------------+----------------+------------------+---------------+\n",
      "|country|      year|   sex|        age|suicides_no|population|suicides/100k pop|country-year|gdp_for_year ($)|gdp_per_capita ($)|     generation|\n",
      "+-------+----------+------+-----------+-----------+----------+-----------------+------------+----------------+------------------+---------------+\n",
      "|Albania|1987-01-01|  male|15-24 years|         21|    312900|             6.71| Albania1987|      2156624900|               796|   Generation X|\n",
      "|Albania|1987-01-01|  male|35-54 years|         16|    308000|             5.19| Albania1987|      2156624900|               796|         Silent|\n",
      "|Albania|1987-01-01|female|15-24 years|         14|    289700|             4.83| Albania1987|      2156624900|               796|   Generation X|\n",
      "|Albania|1987-01-01|  male|  75+ years|          1|     21800|             4.59| Albania1987|      2156624900|               796|G.I. Generation|\n",
      "|Albania|1987-01-01|  male|25-34 years|          9|    274300|             3.28| Albania1987|      2156624900|               796|        Boomers|\n",
      "+-------+----------+------+-----------+-----------+----------+-----------------+------------+----------------+------------------+---------------+\n",
      "only showing top 5 rows\n",
      "\n"
     ]
    }
   ],
   "source": [
    "# drop 'HDI for year' as there are more than 50% null values\n",
    "df = df.drop(\"HDI for year\")\n",
    "df.show(5)"
   ]
  },
  {
   "cell_type": "markdown",
   "id": "276ac5d1",
   "metadata": {},
   "source": [
    "# Data Analysis"
   ]
  },
  {
   "cell_type": "code",
   "execution_count": 46,
   "id": "280ba54f",
   "metadata": {},
   "outputs": [
    {
     "data": {
      "text/plain": [
       "0.6161622675219286"
      ]
     },
     "execution_count": 46,
     "metadata": {},
     "output_type": "execute_result"
    }
   ],
   "source": [
    "correlation_matrix = df.stat.corr(\"suicides_no\", \"population\")\n",
    "correlation_matrix"
   ]
  },
  {
   "cell_type": "code",
   "execution_count": 47,
   "id": "aefb17a1",
   "metadata": {},
   "outputs": [
    {
     "data": {
      "text/plain": [
       "0.4300958523435763"
      ]
     },
     "execution_count": 47,
     "metadata": {},
     "output_type": "execute_result"
    }
   ],
   "source": [
    "correlation_matrix = df.stat.corr(\"suicides_no\", \"gdp_for_year ($)\")\n",
    "correlation_matrix"
   ]
  },
  {
   "cell_type": "code",
   "execution_count": 48,
   "id": "bcb3882d",
   "metadata": {},
   "outputs": [
    {
     "data": {
      "text/plain": [
       "0.061329748840245356"
      ]
     },
     "execution_count": 48,
     "metadata": {},
     "output_type": "execute_result"
    }
   ],
   "source": [
    "correlation_matrix = df.stat.corr(\"suicides_no\", \"gdp_per_capita ($)\")\n",
    "correlation_matrix"
   ]
  },
  {
   "cell_type": "code",
   "execution_count": 49,
   "id": "205bc38d",
   "metadata": {},
   "outputs": [
    {
     "name": "stdout",
     "output_type": "stream",
     "text": [
      "+-----------------+----------------+---------------+\n",
      "|          country|sum(suicides_no)|sum(population)|\n",
      "+-----------------+----------------+---------------+\n",
      "|         Paraguay|            4783|      124641969|\n",
      "|       Cabo Verde|              42|         452179|\n",
      "|           Sweden|           37795|      253297131|\n",
      "|         Kiribati|              53|         741606|\n",
      "|Republic of Korea|          261730|     1354944936|\n",
      "|           Guyana|            3426|       16594589|\n",
      "|      Philippines|           21330|     1065068179|\n",
      "|        Singapore|           10089|       94242441|\n",
      "|             Fiji|             304|        8187391|\n",
      "|           Turkey|           10131|      482640582|\n",
      "|          Germany|          291262|     2024875612|\n",
      "|         Maldives|              20|        2900246|\n",
      "|           France|          329127|     1670756775|\n",
      "|           Greece|           12368|      316096105|\n",
      "|        Sri Lanka|           55641|      182525626|\n",
      "|         Dominica|               0|          66400|\n",
      "|         Slovakia|           13437|      111833713|\n",
      "|            Macau|              27|         346542|\n",
      "|        Argentina|           82219|     1035985431|\n",
      "|          Belgium|           62761|      303302621|\n",
      "+-----------------+----------------+---------------+\n",
      "only showing top 20 rows\n",
      "\n"
     ]
    }
   ],
   "source": [
    "country_group = df.groupBy(\"country\").agg({\"suicides_no\": \"sum\", \"population\": \"sum\"})\n",
    "country_group.show()"
   ]
  },
  {
   "cell_type": "code",
   "execution_count": 50,
   "id": "292be386",
   "metadata": {},
   "outputs": [
    {
     "name": "stdout",
     "output_type": "stream",
     "text": [
      "+---------------+----------------------+\n",
      "|     generation|avg(suicides/100k pop)|\n",
      "+---------------+----------------------+\n",
      "|   Generation X|    10.556874219725358|\n",
      "|   Generation Z|    0.6422993197278909|\n",
      "|     Millenials|     5.383596851471596|\n",
      "|         Silent|    18.418848208673793|\n",
      "|G.I. Generation|    23.946377551020426|\n",
      "|        Boomers|    14.742094188376745|\n",
      "+---------------+----------------------+\n",
      "\n"
     ]
    }
   ],
   "source": [
    "avg_suicides_by_generation = df.groupBy(\"generation\").agg({\"suicides/100k pop\": \"avg\"}).show()\n",
    "avg_suicides_by_generation"
   ]
  },
  {
   "cell_type": "code",
   "execution_count": 51,
   "id": "74085304",
   "metadata": {},
   "outputs": [
    {
     "name": "stdout",
     "output_type": "stream",
     "text": [
      "The country with the maximum number of suicides is: Russian Federation with 1209742 suicides.\n"
     ]
    }
   ],
   "source": [
    "# Group by country and calculate the total number of suicides for each country\n",
    "suicides_by_country = df.groupBy(\"country\").agg(sum(\"suicides_no\").alias(\"total_suicides\"))\n",
    "\n",
    "# Find the country with the maximum number of suicides\n",
    "max_suicides_country = suicides_by_country.select(\"country\", \"total_suicides\").orderBy(col(\"total_suicides\").desc()).first()\n",
    "\n",
    "print(f\"The country with the maximum number of suicides is: {max_suicides_country['country']} with {max_suicides_country['total_suicides']} suicides.\")"
   ]
  },
  {
   "cell_type": "code",
   "execution_count": 52,
   "id": "754bcc60",
   "metadata": {},
   "outputs": [
    {
     "name": "stdout",
     "output_type": "stream",
     "text": [
      "The country with the minimum number of suicides is: Dominica with 0 suicides.\n"
     ]
    }
   ],
   "source": [
    "# Group by country and calculate the total number of suicides for each country\n",
    "suicides_by_country = df.groupBy(\"country\").agg(sum(\"suicides_no\").alias(\"total_suicides\"))\n",
    "\n",
    "# Find the country with the minimum number of suicides\n",
    "min_suicides_country = suicides_by_country.select(\"country\", \"total_suicides\").orderBy(col(\"total_suicides\").asc()).first()\n",
    "\n",
    "print(f\"The country with the minimum number of suicides is: {min_suicides_country['country']} with {min_suicides_country['total_suicides']} suicides.\")"
   ]
  },
  {
   "cell_type": "code",
   "execution_count": 53,
   "id": "de506b44",
   "metadata": {},
   "outputs": [
    {
     "name": "stdout",
     "output_type": "stream",
     "text": [
      "+-----------+--------------+\n",
      "|        age|total_suicides|\n",
      "+-----------+--------------+\n",
      "|15-24 years|        808542|\n",
      "|25-34 years|       1123912|\n",
      "|35-54 years|       2452141|\n",
      "| 5-14 years|         52264|\n",
      "|55-74 years|       1658443|\n",
      "|  75+ years|        653118|\n",
      "+-----------+--------------+\n",
      "\n"
     ]
    }
   ],
   "source": [
    "# Calculate the total number of suicides by age group\n",
    "total_suicides_by_age = df.groupBy(\"age\").agg(sum(\"suicides_no\").alias(\"total_suicides\")).orderBy(\"age\")\n",
    "\n",
    "# Show the result\n",
    "total_suicides_by_age.show()"
   ]
  },
  {
   "cell_type": "code",
   "execution_count": 54,
   "id": "3fc8f7b4",
   "metadata": {},
   "outputs": [
    {
     "name": "stdout",
     "output_type": "stream",
     "text": [
      "Total suicides for female: 1559510\n",
      "Total suicides for male: 5188910\n"
     ]
    }
   ],
   "source": [
    "# Calculate the total number of suicides by gender\n",
    "total_suicides_by_gender = df.groupBy(\"sex\").agg(sum(\"suicides_no\").alias(\"total_suicides\")).collect()\n",
    "\n",
    "# Print the results\n",
    "for row in total_suicides_by_gender:\n",
    "    gender = row[\"sex\"]\n",
    "    total_suicides = row[\"total_suicides\"]\n",
    "    print(f\"Total suicides for {gender}: {total_suicides}\")"
   ]
  },
  {
   "cell_type": "markdown",
   "id": "7ac3271b",
   "metadata": {},
   "source": [
    "# Build Linear Regression Model"
   ]
  },
  {
   "cell_type": "code",
   "execution_count": 55,
   "id": "1df9f28c",
   "metadata": {},
   "outputs": [],
   "source": [
    "feature_columns = [\"gdp_for_year ($)\", \"population\"]\n",
    "assembler = VectorAssembler(inputCols=feature_columns, outputCol=\"features\")\n",
    "assembled_data = assembler.transform(df).select(\"features\", \"suicides_no\")"
   ]
  },
  {
   "cell_type": "code",
   "execution_count": 56,
   "id": "40a81460",
   "metadata": {},
   "outputs": [],
   "source": [
    "train_data, test_data = assembled_data.randomSplit([0.8, 0.2], seed=123)"
   ]
  },
  {
   "cell_type": "code",
   "execution_count": 57,
   "id": "c88b92f1",
   "metadata": {},
   "outputs": [],
   "source": [
    "lr = LinearRegression(featuresCol=\"features\", labelCol=\"suicides_no\")\n",
    "lr_model = lr.fit(train_data)"
   ]
  },
  {
   "cell_type": "code",
   "execution_count": 58,
   "id": "324a77a8",
   "metadata": {},
   "outputs": [],
   "source": [
    "predictions = lr_model.transform(test_data)"
   ]
  },
  {
   "cell_type": "code",
   "execution_count": 59,
   "id": "7050ca89",
   "metadata": {},
   "outputs": [],
   "source": [
    "evaluator = RegressionEvaluator(labelCol=\"suicides_no\", predictionCol=\"prediction\", metricName=\"rmse\")\n",
    "rmse = evaluator.evaluate(predictions)"
   ]
  },
  {
   "cell_type": "code",
   "execution_count": 60,
   "id": "f33d9772",
   "metadata": {},
   "outputs": [
    {
     "name": "stdout",
     "output_type": "stream",
     "text": [
      "Root Mean Squared Error (RMSE) on test data: 903.4076168222439\n"
     ]
    }
   ],
   "source": [
    "print(f\"Root Mean Squared Error (RMSE) on test data: {rmse}\")"
   ]
  },
  {
   "cell_type": "code",
   "execution_count": 61,
   "id": "678d77c9",
   "metadata": {},
   "outputs": [
    {
     "name": "stdout",
     "output_type": "stream",
     "text": [
      "R2 Score on test data: 0.3120584833823522\n"
     ]
    }
   ],
   "source": [
    "# Evaluate the model using R2 score\n",
    "evaluator_r2 = RegressionEvaluator(labelCol=\"suicides_no\", predictionCol=\"prediction\", metricName=\"r2\")\n",
    "r2_score = evaluator_r2.evaluate(predictions)\n",
    "\n",
    "print(f\"R2 Score on test data: {r2_score}\")"
   ]
  },
  {
   "cell_type": "code",
   "execution_count": null,
   "id": "09c5803a",
   "metadata": {},
   "outputs": [],
   "source": []
  }
 ],
 "metadata": {
  "kernelspec": {
   "display_name": "Python 3 (ipykernel)",
   "language": "python",
   "name": "python3"
  },
  "language_info": {
   "codemirror_mode": {
    "name": "ipython",
    "version": 3
   },
   "file_extension": ".py",
   "mimetype": "text/x-python",
   "name": "python",
   "nbconvert_exporter": "python",
   "pygments_lexer": "ipython3",
   "version": "3.9.13"
  }
 },
 "nbformat": 4,
 "nbformat_minor": 5
}
